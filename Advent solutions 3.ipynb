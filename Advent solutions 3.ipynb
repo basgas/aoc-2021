{
 "cells": [
  {
   "cell_type": "markdown",
   "metadata": {},
   "source": [
    "## Day 7: The Treachery of Whales\n",
    "\n",
    "We moeten het getal vinden met gelijke aantallen hoger en lager. dat is de median"
   ]
  },
  {
   "cell_type": "code",
   "execution_count": 54,
   "metadata": {},
   "outputs": [],
   "source": [
    "import statistics\n",
    "from pathlib import Path\n",
    "import re\n",
    "from typing import List, Dict, Tuple"
   ]
  },
  {
   "cell_type": "code",
   "execution_count": 2,
   "metadata": {},
   "outputs": [],
   "source": [
    "day7_test = [int(x) for x in '16,1,2,0,4,2,7,1,2,14'.split(',')]"
   ]
  },
  {
   "cell_type": "code",
   "execution_count": 3,
   "metadata": {},
   "outputs": [
    {
     "data": {
      "text/plain": [
       "(2, 2)"
      ]
     },
     "execution_count": 3,
     "metadata": {},
     "output_type": "execute_result"
    }
   ],
   "source": [
    "statistics.median_low(day7_test), statistics.median_high(day7_test)"
   ]
  },
  {
   "cell_type": "code",
   "execution_count": 4,
   "metadata": {},
   "outputs": [
    {
     "data": {
      "text/plain": [
       "37"
      ]
     },
     "execution_count": 4,
     "metadata": {},
     "output_type": "execute_result"
    }
   ],
   "source": [
    "m = statistics.median_low(day7_test)\n",
    "sum(abs(x-m) for x in day7_test)"
   ]
  },
  {
   "cell_type": "code",
   "execution_count": 5,
   "metadata": {},
   "outputs": [],
   "source": [
    "day7_data = [int(x) for x in Path('7-data.txt').read_text().split(',')]"
   ]
  },
  {
   "cell_type": "code",
   "execution_count": 6,
   "metadata": {},
   "outputs": [
    {
     "data": {
      "text/plain": [
       "343468"
      ]
     },
     "execution_count": 6,
     "metadata": {},
     "output_type": "execute_result"
    }
   ],
   "source": [
    "m = statistics.median_low(day7_data)\n",
    "sum(abs(x-m) for x in day7_data)"
   ]
  },
  {
   "cell_type": "markdown",
   "metadata": {},
   "source": [
    "## Part 2: more fuel\n",
    "\n",
    "As it turns out, crab submarine engines don't burn fuel at a constant rate. Instead, each change of 1 step in horizontal position costs 1 more unit of fuel than the last: the first step costs 1, the second step costs 2, the third step costs 3, and so on.\n",
    "\n",
    "Hier gebruiken we gemiddelde. Blijkbaar moeten we naar beneden afronden. waarom?  \n",
    "vermoedelijk omdat de median lager is."
   ]
  },
  {
   "cell_type": "code",
   "execution_count": 8,
   "metadata": {},
   "outputs": [
    {
     "data": {
      "text/plain": [
       "(5, 168)"
      ]
     },
     "execution_count": 8,
     "metadata": {},
     "output_type": "execute_result"
    }
   ],
   "source": [
    "m = round(statistics.mean(day7_test))\n",
    "m, sum(sum(range(abs(x-m)+1)) for x in day7_test)"
   ]
  },
  {
   "cell_type": "code",
   "execution_count": 11,
   "metadata": {},
   "outputs": [
    {
     "data": {
      "text/plain": [
       "(478.568, 479, 96086306)"
      ]
     },
     "execution_count": 11,
     "metadata": {},
     "output_type": "execute_result"
    }
   ],
   "source": [
    "m = round(statistics.mean(day7_data))\n",
    "statistics.mean(day7_data), m, sum(sum(range(abs(x-m)+1)) for x in day7_data)"
   ]
  },
  {
   "cell_type": "code",
   "execution_count": 12,
   "metadata": {},
   "outputs": [
    {
     "data": {
      "text/plain": [
       "(478.568, 478, 96086265)"
      ]
     },
     "execution_count": 12,
     "metadata": {},
     "output_type": "execute_result"
    }
   ],
   "source": [
    "m = int(statistics.mean(day7_data))\n",
    "statistics.mean(day7_data), m, sum(sum(range(abs(x-m)+1)) for x in day7_data)"
   ]
  },
  {
   "cell_type": "code",
   "execution_count": null,
   "metadata": {},
   "outputs": [
    {
     "data": {
      "text/plain": [
       "(478.568, 479, 96086306)"
      ]
     },
     "metadata": {},
     "output_type": "display_data"
    }
   ],
   "source": [
    "m = round(statistics.mean(day7_data))\n",
    "statistics.mean(day7_data), m, sum(sum(range(abs(x-m)+1)) for x in day7_data)"
   ]
  },
  {
   "cell_type": "markdown",
   "metadata": {},
   "source": [
    "## Day 8: Seven Segment Search"
   ]
  },
  {
   "cell_type": "code",
   "execution_count": 135,
   "metadata": {},
   "outputs": [
    {
     "name": "stdout",
     "output_type": "stream",
     "text": [
      "['be', 'cfbegad', 'cbdgef', 'fgaecd', 'cgeb', 'fdcge', 'agebfd', 'fecdb', 'fabcd', 'edb'] | ['fdgacbe', 'cefdb', 'cefbgd', 'gcbe']\n"
     ]
    }
   ],
   "source": [
    "class Display():\n",
    "    def __init__(self, data: str) -> None:\n",
    "        signal, output = data.split(\" | \")\n",
    "        self.signal = re.findall(r'\\w+', signal)\n",
    "        self.output = re.findall(r'\\w+', output)\n",
    "\n",
    "    def __str__(self) -> str:\n",
    "        return f\"{self.signal} | {self.output}\"\n",
    "\n",
    "    @property\n",
    "    def all_signals(self):\n",
    "        return self.signal + self.output\n",
    "\n",
    "print(Display(\"be cfbegad cbdgef fgaecd cgeb fdcge agebfd fecdb fabcd edb | fdgacbe cefdb cefbgd gcbe\"))"
   ]
  },
  {
   "cell_type": "code",
   "execution_count": 137,
   "metadata": {},
   "outputs": [],
   "source": [
    "day8_test = [Display(l) for l in Path('8-test.txt').read_text().splitlines()]"
   ]
  },
  {
   "cell_type": "code",
   "execution_count": 138,
   "metadata": {},
   "outputs": [
    {
     "data": {
      "text/plain": [
       "26"
      ]
     },
     "execution_count": 138,
     "metadata": {},
     "output_type": "execute_result"
    }
   ],
   "source": [
    "len([x for d in day8_test for x in d.output if len(x) in (2, 4, 3, 7)])"
   ]
  },
  {
   "cell_type": "code",
   "execution_count": 139,
   "metadata": {},
   "outputs": [
    {
     "data": {
      "text/plain": [
       "548"
      ]
     },
     "execution_count": 139,
     "metadata": {},
     "output_type": "execute_result"
    }
   ],
   "source": [
    "day8_data = [Display(l) for l in Path('8-data.txt').read_text().splitlines()]\n",
    "len([x for d in day8_data for x in d.output if len(x) in (2, 4, 3, 7)])"
   ]
  },
  {
   "cell_type": "markdown",
   "metadata": {},
   "source": [
    "## Day 8: Part 2, Mapping"
   ]
  },
  {
   "cell_type": "code",
   "execution_count": 93,
   "metadata": {},
   "outputs": [],
   "source": [
    "from collections import OrderedDict\n",
    "display_map = OrderedDict({0:\"abcefg\", 1:\"cf\", 2: \"acdeg\", 3: \"acdfg\", 4:\"bcdf\", 5: \"abdfg\", 6: \"abdefg\", 7: \"acf\", 8: \"abcdefg\", 9: \"abcdfg\"})\n",
    "signal_map = {v: k for k,v in display_map.items()}"
   ]
  },
  {
   "cell_type": "code",
   "execution_count": 142,
   "metadata": {},
   "outputs": [],
   "source": [
    "import itertools\n",
    "import logging\n",
    "\n",
    "def valid_map(options: Dict[str, List[str]], map: Dict[str, str]) -> bool:\n",
    "    reverse_map = {v: k for k,v in map.items()}\n",
    "    translated = {k: [\"\".join(sorted(i.translate(str.maketrans(reverse_map))))\n",
    "                      for i in v] for k, v in options.items()}\n",
    "    rv = (False not in (x in o for x, o in translated.items()))\n",
    "    logging.debug(\"%s %s %s\", map, translated, rv)\n",
    "    return rv, translated\n",
    "\n",
    "\n",
    "def get_options(data: List[str]) -> Dict[str, List[str]]:\n",
    "    options = {n:[] for n in display_map.values()}\n",
    "    for v in display_map.values():\n",
    "        for signal in data:\n",
    "            if len(v) == len(signal):\n",
    "                options[v].append(signal)\n",
    "    return options\n",
    "\n",
    "def signal_options(data: Dict[str, List[str]]) -> Dict[str, List[str]]:\n",
    "    options = OrderedDict({s: set('abcdefg') for s in \"abcdefg\"})\n",
    "    for output, signals in data.items():\n",
    "        possible_wires = set(\"\".join(signals))\n",
    "        for wire in output:\n",
    "            options[wire] = options[wire].intersection(possible_wires)\n",
    "    return options\n",
    "\n",
    "def find_map(data: List[str]) -> Dict[str, int]:\n",
    "    options = get_options(data)\n",
    "    signals = signal_options(options)\n",
    "    map_options = [dict(zip(signals.keys(), x)) for x in itertools.product(*signals.values()) if len(set(x))==7]\n",
    "    for map in map_options:\n",
    "        if valid_map(options, map)[0]:\n",
    "            return map\n",
    "\n",
    "def decode(signal: str, map: dict):\n",
    "    reverse_map = {v: k for k,v in map.items()}\n",
    "    k = \"\".join(sorted(signal.translate(str.maketrans(reverse_map))))\n",
    "    return k, signal_map[k]\n",
    "\n",
    "def decode_output(display: Display) -> int:\n",
    "    map = find_map(display.all_signals)\n",
    "    return int(\"\".join(str(decode(s, map)[1]) for s in display.output))\n",
    "    \n"
   ]
  },
  {
   "cell_type": "code",
   "execution_count": 133,
   "metadata": {},
   "outputs": [
    {
     "name": "stdout",
     "output_type": "stream",
     "text": [
      "{'a': 'd', 'b': 'e', 'c': 'a', 'd': 'f', 'e': 'g', 'f': 'b', 'g': 'c'}\n",
      "cdfeb ('abdfg', 5)\n",
      "fcadb ('acdfg', 3)\n",
      "cdfeb ('abdfg', 5)\n",
      "cdbaf ('acdfg', 3)\n",
      "5353\n"
     ]
    }
   ],
   "source": [
    "logging.getLogger().setLevel(level='INFO')\n",
    "test_signal = Display('acedgfb cdfbe gcdfa fbcad dab cefabd cdfgeb eafb cagedb ab | cdfeb fcadb cdfeb cdbaf')\n",
    "map = find_map(test_signal.signal + test_signal.output)\n",
    "print(map)\n",
    "test_reference = {'a': 'd', 'b': 'e', 'c': 'a', 'd': 'f', 'e': 'g', 'f': 'b', 'g': 'c'}\n",
    "assert map == test_reference\n",
    "for o in test_signal.output:\n",
    "    logging.debug(o)\n",
    "    print(o, decode(o, map))\n",
    "print(decode_output(test_signal.output, map))"
   ]
  },
  {
   "cell_type": "code",
   "execution_count": 72,
   "metadata": {},
   "outputs": [
    {
     "data": {
      "text/plain": [
       "{'abcefg': ['cbdgef', 'fgaecd', 'agebfd', 'cefbgd'],\n",
       " 'cf': ['be'],\n",
       " 'acdeg': ['fdcge', 'fecdb', 'fabcd', 'cefdb'],\n",
       " 'acdfg': ['fdcge', 'fecdb', 'fabcd', 'cefdb'],\n",
       " 'bcdf': ['cgeb', 'gcbe'],\n",
       " 'abdfg': ['fdcge', 'fecdb', 'fabcd', 'cefdb'],\n",
       " 'abdefg': ['cbdgef', 'fgaecd', 'agebfd', 'cefbgd'],\n",
       " 'acf': ['edb'],\n",
       " 'abcdefg': ['cfbegad', 'fdgacbe'],\n",
       " 'abcdfg': ['cbdgef', 'fgaecd', 'agebfd', 'cefbgd']}"
      ]
     },
     "execution_count": 72,
     "metadata": {},
     "output_type": "execute_result"
    }
   ],
   "source": [
    "get_options(day8_test[0].signal + day8_test[0].output)"
   ]
  },
  {
   "cell_type": "markdown",
   "metadata": {},
   "source": [
    "### Test data\n",
    "Following this same process for each entry in the second, larger example above, the output value of each entry can be determined:\n",
    "\n",
    "```\n",
    "fdgacbe cefdb cefbgd gcbe: 8394\n",
    "fcgedb cgb dgebacf gc: 9781\n",
    "cg cg fdcagb cbg: 1197\n",
    "efabcd cedba gadfec cb: 9361\n",
    "gecf egdcabf bgf bfgea: 4873\n",
    "gebdcfa ecba ca fadegcb: 8418\n",
    "cefg dcbef fcge gbcadfe: 4548\n",
    "ed bcgafe cdgba cbgef: 1625\n",
    "gbdfcae bgc cg cgb: 8717\n",
    "fgae cfgab fg bagce: 4315\n",
    "```\n",
    "\n",
    "Adding all of the output values in this larger example produces `61229`."
   ]
  },
  {
   "cell_type": "code",
   "execution_count": 145,
   "metadata": {},
   "outputs": [
    {
     "name": "stdout",
     "output_type": "stream",
     "text": [
      "8394\n",
      "9781\n",
      "1197\n",
      "9361\n",
      "4873\n",
      "8418\n",
      "4548\n",
      "1625\n",
      "8717\n",
      "4315\n"
     ]
    }
   ],
   "source": [
    "for d in day8_test:\n",
    "    print(decode_output(d))\n",
    "\n",
    "assert sum(decode_output(x) for x in day8_test) == 61229"
   ]
  },
  {
   "cell_type": "code",
   "execution_count": 146,
   "metadata": {},
   "outputs": [
    {
     "data": {
      "text/plain": [
       "1074888"
      ]
     },
     "execution_count": 146,
     "metadata": {},
     "output_type": "execute_result"
    }
   ],
   "source": [
    "sum(decode_output(x) for x in day8_data)"
   ]
  }
 ],
 "metadata": {
  "interpreter": {
   "hash": "7f765a4732cf41bcdc90d9b074021fdee245e4bff3154f463bfd65550891c1c8"
  },
  "kernelspec": {
   "display_name": "Python 3.9.7 64-bit ('venv': venv)",
   "language": "python",
   "name": "python3"
  },
  "language_info": {
   "codemirror_mode": {
    "name": "ipython",
    "version": 3
   },
   "file_extension": ".py",
   "mimetype": "text/x-python",
   "name": "python",
   "nbconvert_exporter": "python",
   "pygments_lexer": "ipython3",
   "version": "3.9.7"
  },
  "orig_nbformat": 4
 },
 "nbformat": 4,
 "nbformat_minor": 2
}
