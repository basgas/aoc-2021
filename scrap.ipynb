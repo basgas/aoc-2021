{
 "cells": [
  {
   "cell_type": "code",
   "execution_count": 1,
   "metadata": {},
   "outputs": [
    {
     "data": {
      "text/plain": [
       "[['1', '2', '3']]"
      ]
     },
     "execution_count": 1,
     "metadata": {},
     "output_type": "execute_result"
    }
   ],
   "source": [
    "t = '''123\n",
    "456\n",
    "789'''\n",
    "[[n for n in l] for l in t.splitlines()][0:1]"
   ]
  },
  {
   "cell_type": "code",
   "execution_count": 8,
   "metadata": {},
   "outputs": [
    {
     "data": {
      "text/plain": [
       "[2, 13, 17, 11, 0]"
      ]
     },
     "execution_count": 8,
     "metadata": {},
     "output_type": "execute_result"
    }
   ],
   "source": [
    "import re\n",
    "\n",
    "[int(n) for n in re.findall('\\d+',\" 2 13 17 11  0\")]"
   ]
  },
  {
   "cell_type": "code",
   "execution_count": 12,
   "metadata": {},
   "outputs": [
    {
     "name": "stdout",
     "output_type": "stream",
     "text": [
      "[(0, 3, 6), (1, 4, 7)]\n"
     ]
    }
   ],
   "source": [
    "matrix = ((0, 1), (3, 4), (6, 7))\n",
    "#Transpose matrix from 3x2 to 2x3\n",
    "\n",
    "matrix_transpose = list(zip(*matrix))\n",
    "print(matrix_transpose)\n",
    "\n"
   ]
  },
  {
   "cell_type": "code",
   "execution_count": 20,
   "metadata": {},
   "outputs": [],
   "source": [
    "l1 = list(matrix)"
   ]
  },
  {
   "cell_type": "code",
   "execution_count": 31,
   "metadata": {},
   "outputs": [
    {
     "data": {
      "text/plain": [
       "[]"
      ]
     },
     "execution_count": 31,
     "metadata": {},
     "output_type": "execute_result"
    }
   ],
   "source": [
    "sorted([i for i, l in enumerate(l1) if False], reverse=True)"
   ]
  },
  {
   "cell_type": "code",
   "execution_count": 32,
   "metadata": {},
   "outputs": [
    {
     "name": "stdout",
     "output_type": "stream",
     "text": [
      "0 (0, 1)\n",
      "1 (3, 4)\n",
      "2 (6, 7)\n"
     ]
    }
   ],
   "source": [
    "for x, row in enumerate(matrix):\n",
    "    print(x, row)"
   ]
  },
  {
   "cell_type": "code",
   "execution_count": 34,
   "metadata": {},
   "outputs": [
    {
     "name": "stdout",
     "output_type": "stream",
     "text": [
      "5\n"
     ]
    }
   ],
   "source": [
    "import re\n",
    "\n",
    "data = '5,5 -> 8,2'\n",
    "m = re.match(r'(\\d+),(\\d+) -> (\\d+),(\\d+)', data)\n",
    "print(m[1])"
   ]
  },
  {
   "cell_type": "code",
   "execution_count": 3,
   "metadata": {},
   "outputs": [
    {
     "name": "stdout",
     "output_type": "stream",
     "text": [
      "0\n",
      "[1, 2, 3, 4]\n",
      "1 1\n",
      "2 1\n",
      "3 2\n",
      "4 1\n"
     ]
    }
   ],
   "source": [
    "from collections import Counter\n",
    "\n",
    "c = Counter()\n",
    "\n",
    "c.update([1,2,3])\n",
    "c.update([3, 4])\n",
    "\n",
    "print(c[10])\n",
    "print(c)\n",
    "\n",
    "for k, v in c.items():\n",
    "    print(k, v)"
   ]
  },
  {
   "cell_type": "code",
   "execution_count": 14,
   "metadata": {},
   "outputs": [
    {
     "data": {
      "text/plain": [
       "([8, 7, 6, 5, 4, 3, 2, 1, 0],\n",
       " [0, 1, 2, 3, 4, 5, 6, 7, 8],\n",
       " [(8, 0), (7, 1), (6, 2), (5, 3), (4, 4), (3, 5), (2, 6), (1, 7), (0, 8)])"
      ]
     },
     "execution_count": 14,
     "metadata": {},
     "output_type": "execute_result"
    }
   ],
   "source": [
    "def intermediates(n1: int, n2: int) -> List[int]:\n",
    "    s = 1 if n1 < n2 else -1\n",
    "    return [n for n in range(n1, n2 + s, s)]\n",
    "\n",
    "s = intermediates(*(8,0))\n",
    "e = intermediates(*(0, 8))\n",
    "s, e, list(zip(s, e))"
   ]
  },
  {
   "cell_type": "code",
   "execution_count": 47,
   "metadata": {},
   "outputs": [
    {
     "data": {
      "text/plain": [
       "[(2, 10), (2, 11), (3, 10), (3, 11), (4, 10), (4, 11), (5, 10), (5, 11)]"
      ]
     },
     "execution_count": 47,
     "metadata": {},
     "output_type": "execute_result"
    }
   ],
   "source": [
    "[(x, y) for x in range(2, 6) for y in range(10, 12)]"
   ]
  },
  {
   "cell_type": "code",
   "execution_count": 25,
   "metadata": {},
   "outputs": [
    {
     "data": {
      "text/plain": [
       "{2: 11, 3: 11, 4: 11, 5: 11}"
      ]
     },
     "execution_count": 25,
     "metadata": {},
     "output_type": "execute_result"
    }
   ],
   "source": [
    "d = {x: y for x in range(2, 6) for y in range(10, 12)}\n",
    "d\n",
    "\n"
   ]
  },
  {
   "cell_type": "code",
   "execution_count": 28,
   "metadata": {},
   "outputs": [
    {
     "data": {
      "text/plain": [
       "66"
      ]
     },
     "execution_count": 28,
     "metadata": {},
     "output_type": "execute_result"
    }
   ],
   "source": [
    "sum(range(16-5+1))"
   ]
  },
  {
   "cell_type": "code",
   "execution_count": 57,
   "metadata": {},
   "outputs": [
    {
     "data": {
      "text/plain": [
       "[1, 2, 3, 4]"
      ]
     },
     "execution_count": 57,
     "metadata": {},
     "output_type": "execute_result"
    }
   ],
   "source": [
    "r = sorted([4, 1])\n",
    "r[-1] += 1\n",
    "[n for n in range(*r)]"
   ]
  },
  {
   "cell_type": "code",
   "execution_count": 29,
   "metadata": {},
   "outputs": [],
   "source": [
    "x = 0\n",
    "if y := x:\n",
    "    print(y)"
   ]
  },
  {
   "cell_type": "code",
   "execution_count": 42,
   "metadata": {},
   "outputs": [],
   "source": [
    "import re\n",
    "signals = re.findall(r'(\\w+)', 'be cfbegad cbdgef fgaecd cgeb fdcge agebfd fecdb fabcd edb | fdgacbe cefdb cefbgd gcbe')"
   ]
  },
  {
   "cell_type": "code",
   "execution_count": 43,
   "metadata": {},
   "outputs": [
    {
     "data": {
      "text/plain": [
       "{'a', 'b', 'c', 'd', 'e', 'f', 'g'}"
      ]
     },
     "execution_count": 43,
     "metadata": {},
     "output_type": "execute_result"
    }
   ],
   "source": [
    "set(\"\".join(signals))"
   ]
  },
  {
   "cell_type": "code",
   "execution_count": 48,
   "metadata": {},
   "outputs": [
    {
     "data": {
      "text/plain": [
       "'qfbegad'"
      ]
     },
     "execution_count": 48,
     "metadata": {},
     "output_type": "execute_result"
    }
   ],
   "source": [
    "'cfbegad'.translate(str.maketrans({\"c\":\"q\"}))"
   ]
  },
  {
   "cell_type": "code",
   "execution_count": 57,
   "metadata": {},
   "outputs": [
    {
     "data": {
      "text/plain": [
       "[('d', 'b'),\n",
       " ('d', 'c'),\n",
       " ('d', 'g'),\n",
       " ('d', 'e'),\n",
       " ('b', 'b'),\n",
       " ('b', 'c'),\n",
       " ('b', 'g'),\n",
       " ('b', 'e'),\n",
       " ('e', 'b'),\n",
       " ('e', 'c'),\n",
       " ('e', 'g'),\n",
       " ('e', 'e')]"
      ]
     },
     "execution_count": 57,
     "metadata": {},
     "output_type": "execute_result"
    }
   ],
   "source": [
    "import itertools\n",
    "list(itertools.product({'b', 'd', 'e'}, {'b', 'c', 'e', 'g'}))"
   ]
  },
  {
   "cell_type": "code",
   "execution_count": null,
   "metadata": {},
   "outputs": [
    {
     "data": {
      "text/plain": [
       "{'abcefg': ['cbdgef', 'fgaecd', 'agebfd', 'cefbgd'],\n",
       " 'cf': ['be'],\n",
       " 'acdeg': ['fdcge', 'fecdb', 'fabcd', 'cefdb'],\n",
       " 'acdfg': ['fdcge', 'fecdb', 'fabcd', 'cefdb'],\n",
       " 'bcdf': ['cgeb', 'gcbe'],\n",
       " 'abdfg': ['fdcge', 'fecdb', 'fabcd', 'cefdb'],\n",
       " 'abdefg': ['cbdgef', 'fgaecd', 'agebfd', 'cefbgd'],\n",
       " 'acf': ['edb'],\n",
       " 'abcdefg': ['cfbegad', 'fdgacbe'],\n",
       " 'abcdfg': ['cbdgef', 'fgaecd', 'agebfd', 'cefbgd']}"
      ]
     },
     "metadata": {},
     "output_type": "display_data"
    }
   ],
   "source": [
    "get_options(day8_test[0].signal + day8_test[0].output)"
   ]
  },
  {
   "cell_type": "code",
   "execution_count": 40,
   "metadata": {},
   "outputs": [
    {
     "data": {
      "text/plain": [
       "{'a': {'a', 'b', 'c', 'd', 'e', 'f', 'g'},\n",
       " 'b': {'a', 'b', 'c', 'd', 'e', 'f', 'g'},\n",
       " 'c': {'a', 'b', 'c', 'd', 'e', 'f', 'g'},\n",
       " 'd': {'a', 'b', 'c', 'd', 'e', 'f', 'g'},\n",
       " 'e': {'a', 'b', 'c', 'd', 'e', 'f', 'g'},\n",
       " 'f': {'a', 'b', 'c', 'd', 'e', 'f', 'g'},\n",
       " 'g': {'a', 'b', 'c', 'd', 'e', 'f', 'g'}}"
      ]
     },
     "execution_count": 40,
     "metadata": {},
     "output_type": "execute_result"
    }
   ],
   "source": [
    "{s: set('abcdefg') for s in \"abcdefg\"}"
   ]
  }
 ],
 "metadata": {
  "interpreter": {
   "hash": "7f765a4732cf41bcdc90d9b074021fdee245e4bff3154f463bfd65550891c1c8"
  },
  "kernelspec": {
   "display_name": "Python 3.9.7 64-bit ('venv': venv)",
   "language": "python",
   "name": "python3"
  },
  "language_info": {
   "codemirror_mode": {
    "name": "ipython",
    "version": 3
   },
   "file_extension": ".py",
   "mimetype": "text/x-python",
   "name": "python",
   "nbconvert_exporter": "python",
   "pygments_lexer": "ipython3",
   "version": "3.9.7"
  },
  "orig_nbformat": 4
 },
 "nbformat": 4,
 "nbformat_minor": 2
}
