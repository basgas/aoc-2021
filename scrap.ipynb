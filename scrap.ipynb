{
 "cells": [
  {
   "cell_type": "code",
   "execution_count": 1,
   "metadata": {},
   "outputs": [
    {
     "data": {
      "text/plain": [
       "[['1', '2', '3']]"
      ]
     },
     "execution_count": 1,
     "metadata": {},
     "output_type": "execute_result"
    }
   ],
   "source": [
    "t = '''123\n",
    "456\n",
    "789'''\n",
    "[[n for n in l] for l in t.splitlines()][0:1]"
   ]
  },
  {
   "cell_type": "code",
   "execution_count": 8,
   "metadata": {},
   "outputs": [
    {
     "data": {
      "text/plain": [
       "[2, 13, 17, 11, 0]"
      ]
     },
     "execution_count": 8,
     "metadata": {},
     "output_type": "execute_result"
    }
   ],
   "source": [
    "import re\n",
    "\n",
    "[int(n) for n in re.findall('\\d+',\" 2 13 17 11  0\")]"
   ]
  },
  {
   "cell_type": "code",
   "execution_count": 12,
   "metadata": {},
   "outputs": [
    {
     "name": "stdout",
     "output_type": "stream",
     "text": [
      "[(0, 3, 6), (1, 4, 7)]\n"
     ]
    }
   ],
   "source": [
    "matrix = ((0, 1), (3, 4), (6, 7))\n",
    "#Transpose matrix from 3x2 to 2x3\n",
    "\n",
    "matrix_transpose = list(zip(*matrix))\n",
    "print(matrix_transpose)\n",
    "\n"
   ]
  },
  {
   "cell_type": "code",
   "execution_count": 13,
   "metadata": {},
   "outputs": [
    {
     "name": "stdout",
     "output_type": "stream",
     "text": [
      "0 (0, 1)\n",
      "1 (3, 4)\n",
      "2 (6, 7)\n"
     ]
    }
   ],
   "source": [
    "for x, row in enumerate(matrix):\n",
    "    print(x, row)"
   ]
  }
 ],
 "metadata": {
  "interpreter": {
   "hash": "7f765a4732cf41bcdc90d9b074021fdee245e4bff3154f463bfd65550891c1c8"
  },
  "kernelspec": {
   "display_name": "Python 3.9.7 64-bit ('venv': venv)",
   "language": "python",
   "name": "python3"
  },
  "language_info": {
   "codemirror_mode": {
    "name": "ipython",
    "version": 3
   },
   "file_extension": ".py",
   "mimetype": "text/x-python",
   "name": "python",
   "nbconvert_exporter": "python",
   "pygments_lexer": "ipython3",
   "version": "3.9.7"
  },
  "orig_nbformat": 4
 },
 "nbformat": 4,
 "nbformat_minor": 2
}
