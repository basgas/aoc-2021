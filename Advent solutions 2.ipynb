{
 "cells": [
  {
   "cell_type": "markdown",
   "metadata": {},
   "source": [
    "## Day 4: Giant Squid"
   ]
  },
  {
   "cell_type": "code",
   "execution_count": 16,
   "metadata": {},
   "outputs": [],
   "source": [
    "from typing import List\n",
    "from pathlib import Path\n",
    "import re\n"
   ]
  },
  {
   "cell_type": "code",
   "execution_count": null,
   "metadata": {},
   "outputs": [],
   "source": []
  },
  {
   "cell_type": "code",
   "execution_count": 3,
   "metadata": {},
   "outputs": [
    {
     "name": "stdout",
     "output_type": "stream",
     "text": [
      "7,4,9,5,11,17,23,2,0,14,21,24,10,16,13,6,15,25,12,22,18,20,8,19,3,26,1\n",
      "\n",
      "22 13 17 11  0\n",
      " 8  2 23  4 24\n",
      "21  9 14 16  7\n",
      " 6 10  3 18  5\n",
      " 1 12 20 15 19\n",
      "\n",
      " 3 15  0  2 22\n",
      " 9 18 13 17  5\n",
      "19  8  7 25 23\n",
      "20 11 10 24  4\n",
      "14 21 16 12  6\n",
      "\n",
      "14 21 17 24  4\n",
      "10 16 15  9 19\n",
      "18  8 23 26 20\n",
      "22 11 13  6  5\n",
      " 2  0 12  3  7\n"
     ]
    }
   ],
   "source": [
    "with Path('./4-test-input.txt') as file:\n",
    "    bingo_text = file.read_text()\n",
    "    for line in bingo_text.splitlines():\n",
    "        print(line)\n",
    "# bingo_text.splitlines()"
   ]
  },
  {
   "cell_type": "code",
   "execution_count": 76,
   "metadata": {},
   "outputs": [],
   "source": [
    "class Board:\n",
    "    def __init__(self, lines: List[str]) -> None:\n",
    "        self.board: List[List[int]] = [\n",
    "            [(int(n), False) for n in re.findall('\\d+', line)] for line in lines]\n",
    "\n",
    "    def __repr__(self) -> str:\n",
    "        return f\"Board: {self.board}\"\n",
    "\n",
    "    @property\n",
    "    def winner(self):\n",
    "        for row in self.board:\n",
    "            if sum(n[1] for n in row) >= 5:\n",
    "                return True\n",
    "        for col in tuple(zip(*self.board)):\n",
    "            if sum(n[1] for n in col) >= 5:\n",
    "                return True\n",
    "        return False\n",
    "\n",
    "    @property\n",
    "    def sum_unmarked(self):\n",
    "        return sum([value[0] for row in self.board for value in row if not value[1]])\n",
    "\n",
    "    def mark(self, number):\n",
    "        for y, row in enumerate(self.board):\n",
    "            for x, value in enumerate(row):\n",
    "                if value[0] == number:\n",
    "                    self.board[y][x] = (number, True)\n",
    "                    return self.winner\n",
    "        return self.winner\n",
    "\n",
    "\n",
    "b = Board(\"\"\"14 21 17 24  4\n",
    "10 16 15  9 19\n",
    "18  8 23 26 20\n",
    "22 11 13  6  5\n",
    " 2  0 12  3  7\"\"\".splitlines())"
   ]
  },
  {
   "cell_type": "code",
   "execution_count": 78,
   "metadata": {},
   "outputs": [
    {
     "data": {
      "text/plain": [
       "325"
      ]
     },
     "execution_count": 78,
     "metadata": {},
     "output_type": "execute_result"
    }
   ],
   "source": [
    "b.sum_unmarked"
   ]
  },
  {
   "cell_type": "code",
   "execution_count": 79,
   "metadata": {},
   "outputs": [
    {
     "name": "stdout",
     "output_type": "stream",
     "text": [
      "False\n",
      "308\n"
     ]
    },
    {
     "data": {
      "text/plain": [
       "Board: [[(14, False), (21, False), (17, False), (24, False), (4, False)], [(10, False), (16, False), (15, False), (9, False), (19, False)], [(18, False), (8, False), (23, False), (26, False), (20, False)], [(22, False), (11, False), (13, False), (6, False), (5, False)], [(2, True), (0, True), (12, True), (3, True), (7, False)]]"
      ]
     },
     "execution_count": 79,
     "metadata": {},
     "output_type": "execute_result"
    }
   ],
   "source": [
    "b.mark(2)\n",
    "b.mark(0)\n",
    "b.mark(12)\n",
    "b.mark(3)\n",
    "# b.mark(7)\n",
    "print(b.winner)\n",
    "print(b.sum_unmarked)\n",
    "b"
   ]
  },
  {
   "cell_type": "code",
   "execution_count": 98,
   "metadata": {},
   "outputs": [
    {
     "name": "stdout",
     "output_type": "stream",
     "text": [
      "[7, 4, 9, 5, 11, 17, 23, 2, 0, 14, 21, 24, 10, 16, 13, 6, 15, 25, 12, 22, 18, 20, 8, 19, 3, 26, 1]\n",
      "[Board: [[(22, False), (13, False), (17, True), (11, True), (0, True)], [(8, False), (2, True), (23, True), (4, True), (24, True)], [(21, True), (9, True), (14, True), (16, False), (7, True)], [(6, False), (10, False), (3, False), (18, False), (5, True)], [(1, False), (12, False), (20, False), (15, False), (19, False)]], Board: [[(3, False), (15, False), (0, True), (2, True), (22, False)], [(9, True), (18, False), (13, False), (17, True), (5, True)], [(19, False), (8, False), (7, True), (25, False), (23, True)], [(20, False), (11, True), (10, False), (24, True), (4, True)], [(14, True), (21, True), (16, False), (12, False), (6, False)]]]\n",
      "Winner:  Board: [[(14, True), (21, True), (17, True), (24, True), (4, True)], [(10, False), (16, False), (15, False), (9, True), (19, False)], [(18, False), (8, False), (23, True), (26, False), (20, False)], [(22, False), (11, True), (13, False), (6, False), (5, True)], [(2, True), (0, True), (12, False), (3, False), (7, True)]]\n",
      "188 24 4512\n"
     ]
    }
   ],
   "source": [
    "class Bingo:\n",
    "    def __init__(self, input: str) -> None:\n",
    "        self.lines = input.splitlines()\n",
    "        self.numbers: List[int] = [int(i) for i in self.lines[0].split(',')]\n",
    "        self.boards = [Board(self.lines[n*6+2:n*6+7])\n",
    "                       for n in range(int(len(self.lines)/6))]\n",
    "        self.winners = []\n",
    "\n",
    "    @classmethod\n",
    "    def from_file(cls, filename: str):\n",
    "        with Path(filename) as file:\n",
    "            bingo_text = file.read_text()\n",
    "        return cls(bingo_text)\n",
    "        \n",
    "    def draw(self):\n",
    "        for n in self.numbers:\n",
    "            winner_index = [i for i, board in enumerate(self.boards) if board.mark(n)]\n",
    "            for i in sorted(winner_index, reverse=True):\n",
    "                self.winners.append((self.boards.pop(i), n))\n",
    "            yield self.winners\n",
    "\n",
    "    def draw_until_win(self):\n",
    "        for winners in self.draw():\n",
    "            if winners:\n",
    "                return winners[0]\n",
    "        return []\n",
    "\n",
    "    def draw_until_last(self):\n",
    "        for winners in self.draw():\n",
    "            pass\n",
    "        return winners[-1]\n",
    "\n",
    "\n",
    "bingo_test = Bingo(bingo_text)\n",
    "print(bingo_test.numbers)\n",
    "winner, number = bingo_test.draw_until_win()\n",
    "print(bingo_test.boards)\n",
    "\n",
    "print(\"Winner: \", winner)\n",
    "print(winner.sum_unmarked, number, number*winner.sum_unmarked)\n"
   ]
  },
  {
   "cell_type": "code",
   "execution_count": 99,
   "metadata": {},
   "outputs": [
    {
     "name": "stdout",
     "output_type": "stream",
     "text": [
      "Loser:  Board: [[(3, False), (15, False), (0, True), (2, True), (22, False)], [(9, True), (18, False), (13, True), (17, True), (5, True)], [(19, False), (8, False), (7, True), (25, False), (23, True)], [(20, False), (11, True), (10, True), (24, True), (4, True)], [(14, True), (21, True), (16, True), (12, False), (6, False)]]\n",
      "148 13 1924\n"
     ]
    }
   ],
   "source": [
    "bingo_test = Bingo(bingo_text)\n",
    "loser, number = bingo_test.draw_until_last()\n",
    "\n",
    "print(\"Loser: \", loser)\n",
    "print(loser.sum_unmarked, number, number*loser.sum_unmarked)\n"
   ]
  },
  {
   "cell_type": "code",
   "execution_count": 83,
   "metadata": {},
   "outputs": [],
   "source": [
    "bingo = Bingo.from_file('4-puzzle-input.txt')\n",
    "winner, number = bingo.draw_until_win()\n",
    "\n",
    "print(\"Winner: \", winner)\n",
    "print(winner.sum_unmarked, number, number*winner.sum_unmarked)\n"
   ]
  },
  {
   "cell_type": "markdown",
   "metadata": {},
   "source": [
    "## Day 4 part 2"
   ]
  },
  {
   "cell_type": "code",
   "execution_count": 100,
   "metadata": {},
   "outputs": [
    {
     "name": "stdout",
     "output_type": "stream",
     "text": [
      "Loser:  Board: [[(45, False), (97, True), (96, True), (23, True), (62, True)], [(79, True), (59, True), (60, True), (87, True), (64, False)], [(75, True), (2, False), (30, True), (47, True), (50, True)], [(85, True), (81, True), (56, True), (11, False), (38, True)], [(17, True), (26, True), (40, True), (7, True), (66, True)]]\n",
      "122 40 4880\n"
     ]
    }
   ],
   "source": [
    "bingo = Bingo.from_file('4-puzzle-input.txt')\n",
    "winner, number = bingo.draw_until_last()\n",
    "\n",
    "print(\"Loser: \", winner)\n",
    "print(winner.sum_unmarked, number, number*winner.sum_unmarked)\n"
   ]
  }
 ],
 "metadata": {
  "interpreter": {
   "hash": "7f765a4732cf41bcdc90d9b074021fdee245e4bff3154f463bfd65550891c1c8"
  },
  "kernelspec": {
   "display_name": "Python 3.9.7 64-bit ('venv': venv)",
   "language": "python",
   "name": "python3"
  },
  "language_info": {
   "codemirror_mode": {
    "name": "ipython",
    "version": 3
   },
   "file_extension": ".py",
   "mimetype": "text/x-python",
   "name": "python",
   "nbconvert_exporter": "python",
   "pygments_lexer": "ipython3",
   "version": "3.9.7"
  },
  "orig_nbformat": 4
 },
 "nbformat": 4,
 "nbformat_minor": 2
}
