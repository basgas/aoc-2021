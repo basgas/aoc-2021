{
 "cells": [
  {
   "cell_type": "markdown",
   "metadata": {},
   "source": [
    "## Day 4: Giant Squid"
   ]
  },
  {
   "cell_type": "code",
   "execution_count": 1,
   "metadata": {},
   "outputs": [],
   "source": [
    "from typing import List\n",
    "from pathlib import Path\n",
    "import re\n"
   ]
  },
  {
   "cell_type": "code",
   "execution_count": 3,
   "metadata": {},
   "outputs": [
    {
     "name": "stdout",
     "output_type": "stream",
     "text": [
      "7,4,9,5,11,17,23,2,0,14,21,24,10,16,13,6,15,25,12,22,18,20,8,19,3,26,1\n",
      "\n",
      "22 13 17 11  0\n",
      " 8  2 23  4 24\n",
      "21  9 14 16  7\n",
      " 6 10  3 18  5\n",
      " 1 12 20 15 19\n",
      "\n",
      " 3 15  0  2 22\n",
      " 9 18 13 17  5\n",
      "19  8  7 25 23\n",
      "20 11 10 24  4\n",
      "14 21 16 12  6\n",
      "\n",
      "14 21 17 24  4\n",
      "10 16 15  9 19\n",
      "18  8 23 26 20\n",
      "22 11 13  6  5\n",
      " 2  0 12  3  7\n"
     ]
    }
   ],
   "source": [
    "with Path('./4-test-input.txt') as file:\n",
    "    bingo_text = file.read_text()\n",
    "    for line in bingo_text.splitlines():\n",
    "        print(line)\n",
    "# bingo_text.splitlines()"
   ]
  },
  {
   "cell_type": "code",
   "execution_count": 76,
   "metadata": {},
   "outputs": [],
   "source": [
    "class Board:\n",
    "    def __init__(self, lines: List[str]) -> None:\n",
    "        self.board: List[List[int]] = [\n",
    "            [(int(n), False) for n in re.findall('\\d+', line)] for line in lines]\n",
    "\n",
    "    def __repr__(self) -> str:\n",
    "        return f\"Board: {self.board}\"\n",
    "\n",
    "    @property\n",
    "    def winner(self):\n",
    "        for row in self.board:\n",
    "            if sum(n[1] for n in row) >= 5:\n",
    "                return True\n",
    "        for col in tuple(zip(*self.board)):\n",
    "            if sum(n[1] for n in col) >= 5:\n",
    "                return True\n",
    "        return False\n",
    "\n",
    "    @property\n",
    "    def sum_unmarked(self):\n",
    "        return sum([value[0] for row in self.board for value in row if not value[1]])\n",
    "\n",
    "    def mark(self, number):\n",
    "        for y, row in enumerate(self.board):\n",
    "            for x, value in enumerate(row):\n",
    "                if value[0] == number:\n",
    "                    self.board[y][x] = (number, True)\n",
    "                    return self.winner\n",
    "        return self.winner\n",
    "\n",
    "\n",
    "b = Board(\"\"\"14 21 17 24  4\n",
    "10 16 15  9 19\n",
    "18  8 23 26 20\n",
    "22 11 13  6  5\n",
    " 2  0 12  3  7\"\"\".splitlines())"
   ]
  },
  {
   "cell_type": "code",
   "execution_count": 78,
   "metadata": {},
   "outputs": [
    {
     "data": {
      "text/plain": [
       "325"
      ]
     },
     "execution_count": 78,
     "metadata": {},
     "output_type": "execute_result"
    }
   ],
   "source": [
    "b.sum_unmarked"
   ]
  },
  {
   "cell_type": "code",
   "execution_count": 79,
   "metadata": {},
   "outputs": [
    {
     "name": "stdout",
     "output_type": "stream",
     "text": [
      "False\n",
      "308\n"
     ]
    },
    {
     "data": {
      "text/plain": [
       "Board: [[(14, False), (21, False), (17, False), (24, False), (4, False)], [(10, False), (16, False), (15, False), (9, False), (19, False)], [(18, False), (8, False), (23, False), (26, False), (20, False)], [(22, False), (11, False), (13, False), (6, False), (5, False)], [(2, True), (0, True), (12, True), (3, True), (7, False)]]"
      ]
     },
     "execution_count": 79,
     "metadata": {},
     "output_type": "execute_result"
    }
   ],
   "source": [
    "b.mark(2)\n",
    "b.mark(0)\n",
    "b.mark(12)\n",
    "b.mark(3)\n",
    "# b.mark(7)\n",
    "print(b.winner)\n",
    "print(b.sum_unmarked)\n",
    "b"
   ]
  },
  {
   "cell_type": "code",
   "execution_count": 98,
   "metadata": {},
   "outputs": [
    {
     "name": "stdout",
     "output_type": "stream",
     "text": [
      "[7, 4, 9, 5, 11, 17, 23, 2, 0, 14, 21, 24, 10, 16, 13, 6, 15, 25, 12, 22, 18, 20, 8, 19, 3, 26, 1]\n",
      "[Board: [[(22, False), (13, False), (17, True), (11, True), (0, True)], [(8, False), (2, True), (23, True), (4, True), (24, True)], [(21, True), (9, True), (14, True), (16, False), (7, True)], [(6, False), (10, False), (3, False), (18, False), (5, True)], [(1, False), (12, False), (20, False), (15, False), (19, False)]], Board: [[(3, False), (15, False), (0, True), (2, True), (22, False)], [(9, True), (18, False), (13, False), (17, True), (5, True)], [(19, False), (8, False), (7, True), (25, False), (23, True)], [(20, False), (11, True), (10, False), (24, True), (4, True)], [(14, True), (21, True), (16, False), (12, False), (6, False)]]]\n",
      "Winner:  Board: [[(14, True), (21, True), (17, True), (24, True), (4, True)], [(10, False), (16, False), (15, False), (9, True), (19, False)], [(18, False), (8, False), (23, True), (26, False), (20, False)], [(22, False), (11, True), (13, False), (6, False), (5, True)], [(2, True), (0, True), (12, False), (3, False), (7, True)]]\n",
      "188 24 4512\n"
     ]
    }
   ],
   "source": [
    "class Bingo:\n",
    "    def __init__(self, input: str) -> None:\n",
    "        self.lines = input.splitlines()\n",
    "        self.numbers: List[int] = [int(i) for i in self.lines[0].split(',')]\n",
    "        self.boards = [Board(self.lines[n*6+2:n*6+7])\n",
    "                       for n in range(int(len(self.lines)/6))]\n",
    "        self.winners = []\n",
    "\n",
    "    @classmethod\n",
    "    def from_file(cls, filename: str):\n",
    "        with Path(filename) as file:\n",
    "            bingo_text = file.read_text()\n",
    "        return cls(bingo_text)\n",
    "        \n",
    "    def draw(self):\n",
    "        for n in self.numbers:\n",
    "            winner_index = [i for i, board in enumerate(self.boards) if board.mark(n)]\n",
    "            for i in sorted(winner_index, reverse=True):\n",
    "                self.winners.append((self.boards.pop(i), n))\n",
    "            yield self.winners\n",
    "\n",
    "    def draw_until_win(self):\n",
    "        for winners in self.draw():\n",
    "            if winners:\n",
    "                return winners[0]\n",
    "        return []\n",
    "\n",
    "    def draw_until_last(self):\n",
    "        for winners in self.draw():\n",
    "            pass\n",
    "        return winners[-1]\n",
    "\n",
    "\n",
    "bingo_test = Bingo(bingo_text)\n",
    "print(bingo_test.numbers)\n",
    "winner, number = bingo_test.draw_until_win()\n",
    "print(bingo_test.boards)\n",
    "\n",
    "print(\"Winner: \", winner)\n",
    "print(winner.sum_unmarked, number, number*winner.sum_unmarked)\n"
   ]
  },
  {
   "cell_type": "code",
   "execution_count": 99,
   "metadata": {},
   "outputs": [
    {
     "name": "stdout",
     "output_type": "stream",
     "text": [
      "Loser:  Board: [[(3, False), (15, False), (0, True), (2, True), (22, False)], [(9, True), (18, False), (13, True), (17, True), (5, True)], [(19, False), (8, False), (7, True), (25, False), (23, True)], [(20, False), (11, True), (10, True), (24, True), (4, True)], [(14, True), (21, True), (16, True), (12, False), (6, False)]]\n",
      "148 13 1924\n"
     ]
    }
   ],
   "source": [
    "bingo_test = Bingo(bingo_text)\n",
    "loser, number = bingo_test.draw_until_last()\n",
    "\n",
    "print(\"Loser: \", loser)\n",
    "print(loser.sum_unmarked, number, number*loser.sum_unmarked)\n"
   ]
  },
  {
   "cell_type": "code",
   "execution_count": 83,
   "metadata": {},
   "outputs": [],
   "source": [
    "bingo = Bingo.from_file('4-puzzle-input.txt')\n",
    "winner, number = bingo.draw_until_win()\n",
    "\n",
    "print(\"Winner: \", winner)\n",
    "print(winner.sum_unmarked, number, number*winner.sum_unmarked)\n"
   ]
  },
  {
   "cell_type": "markdown",
   "metadata": {},
   "source": [
    "## Day 4 part 2"
   ]
  },
  {
   "cell_type": "code",
   "execution_count": 100,
   "metadata": {},
   "outputs": [
    {
     "name": "stdout",
     "output_type": "stream",
     "text": [
      "Loser:  Board: [[(45, False), (97, True), (96, True), (23, True), (62, True)], [(79, True), (59, True), (60, True), (87, True), (64, False)], [(75, True), (2, False), (30, True), (47, True), (50, True)], [(85, True), (81, True), (56, True), (11, False), (38, True)], [(17, True), (26, True), (40, True), (7, True), (66, True)]]\n",
      "122 40 4880\n"
     ]
    }
   ],
   "source": [
    "bingo = Bingo.from_file('4-puzzle-input.txt')\n",
    "winner, number = bingo.draw_until_last()\n",
    "\n",
    "print(\"Loser: \", winner)\n",
    "print(winner.sum_unmarked, number, number*winner.sum_unmarked)\n"
   ]
  },
  {
   "cell_type": "markdown",
   "metadata": {},
   "source": [
    "## Day 5 part 1"
   ]
  },
  {
   "cell_type": "code",
   "execution_count": 29,
   "metadata": {},
   "outputs": [
    {
     "name": "stdout",
     "output_type": "stream",
     "text": [
      "[Point(x=1, y=4), Point(x=2, y=4), Point(x=3, y=4)]\n",
      "[]\n",
      "[Point(x=3, y=3), Point(x=3, y=4), Point(x=3, y=5), Point(x=3, y=6)]\n",
      "[Point(x=3, y=3), Point(x=4, y=4), Point(x=5, y=5)]\n",
      "[Point(x=6, y=6), Point(x=5, y=5), Point(x=4, y=4)]\n",
      "[Point(x=8, y=0), Point(x=7, y=1), Point(x=6, y=2), Point(x=5, y=3), Point(x=4, y=4), Point(x=3, y=5), Point(x=2, y=6), Point(x=1, y=7), Point(x=0, y=8)]\n"
     ]
    }
   ],
   "source": [
    "from dataclasses import dataclass\n",
    "import re\n",
    "from collections import Counter\n",
    "\n",
    "\n",
    "def intermediates(n1: int, n2: int) -> List[int]:\n",
    "    s = 1 if n1 < n2 else -1\n",
    "    return [n for n in range(n1, n2 + s, s)]\n",
    "\n",
    "\n",
    "@dataclass(unsafe_hash=True, order=True)\n",
    "class Point:\n",
    "    x: int\n",
    "    y: int\n",
    "\n",
    "\n",
    "@dataclass\n",
    "class Line:\n",
    "    start: Point\n",
    "    end: Point\n",
    "\n",
    "    @classmethod\n",
    "    def from_text(cls, data: str):\n",
    "        m = re.match(r'(\\d+),(\\d+) -> (\\d+),(\\d+)', data)\n",
    "        return cls(start=Point(int(m[1]), int(m[2])), end=Point(int(m[3]), int(m[4])))\n",
    "\n",
    "    @property\n",
    "    def points(self):\n",
    "        if self.start.x == self.end.x or self.start.y == self.end.y:\n",
    "            r_x = sorted([self.start.x, self.end.x])\n",
    "            r_x[-1] += 1\n",
    "            r_y = sorted([self.start.y, self.end.y])\n",
    "            r_y[-1] += 1\n",
    "            return [Point(x, y) for x in range(*r_x) for y in range(*r_y)]\n",
    "        elif (abs(self.start.x - self.end.x) == abs(self.start.y - self.end.y)):\n",
    "            vals = zip(intermediates(self.start.x, self.end.x),\n",
    "                       intermediates(self.start.y, self.end.y))\n",
    "            return [Point(x, y) for x, y in vals]\n",
    "        else:\n",
    "            return []\n",
    "\n",
    "\n",
    "l = Line.from_text('3,4 -> 1,4')\n",
    "print(l.points)\n",
    "print(Line.from_text('3,6 -> 2,3').points)\n",
    "print(Line.from_text('3,6 -> 3,3').points)\n",
    "print(Line.from_text('3,3 -> 5,5').points)\n",
    "print(Line.from_text('6,6 -> 4,4').points)\n",
    "print(Line.from_text('8,0 -> 0,8').points)\n"
   ]
  },
  {
   "cell_type": "code",
   "execution_count": 30,
   "metadata": {},
   "outputs": [
    {
     "name": "stdout",
     "output_type": "stream",
     "text": [
      "[Line(start=Point(x=0, y=9), end=Point(x=5, y=9)), Line(start=Point(x=8, y=0), end=Point(x=0, y=8)), Line(start=Point(x=9, y=4), end=Point(x=3, y=4)), Line(start=Point(x=2, y=2), end=Point(x=2, y=1)), Line(start=Point(x=7, y=0), end=Point(x=7, y=4)), Line(start=Point(x=6, y=4), end=Point(x=2, y=0)), Line(start=Point(x=0, y=9), end=Point(x=2, y=9)), Line(start=Point(x=3, y=4), end=Point(x=1, y=4)), Line(start=Point(x=0, y=0), end=Point(x=8, y=8)), Line(start=Point(x=5, y=5), end=Point(x=8, y=2))]\n",
      "1.1....11.\n",
      ".111...2..\n",
      "..2.1.111.\n",
      "...1.2.2..\n",
      ".112313211\n",
      "...1.2....\n",
      "..1...1...\n",
      ".1.....1..\n",
      "1.......1.\n",
      "222111....\n",
      "Counter({Point(x=4, y=4): 3, Point(x=6, y=4): 3, Point(x=0, y=9): 2, Point(x=1, y=9): 2, Point(x=2, y=9): 2, Point(x=7, y=1): 2, Point(x=5, y=3): 2, Point(x=3, y=4): 2, Point(x=7, y=4): 2, Point(x=2, y=2): 2, Point(x=7, y=3): 2, Point(x=5, y=5): 2, Point(x=3, y=9): 1, Point(x=4, y=9): 1, Point(x=5, y=9): 1, Point(x=8, y=0): 1, Point(x=6, y=2): 1, Point(x=3, y=5): 1, Point(x=2, y=6): 1, Point(x=1, y=7): 1, Point(x=0, y=8): 1, Point(x=5, y=4): 1, Point(x=8, y=4): 1, Point(x=9, y=4): 1, Point(x=2, y=1): 1, Point(x=7, y=0): 1, Point(x=7, y=2): 1, Point(x=4, y=2): 1, Point(x=3, y=1): 1, Point(x=2, y=0): 1, Point(x=1, y=4): 1, Point(x=2, y=4): 1, Point(x=0, y=0): 1, Point(x=1, y=1): 1, Point(x=3, y=3): 1, Point(x=6, y=6): 1, Point(x=7, y=7): 1, Point(x=8, y=8): 1, Point(x=8, y=2): 1})\n"
     ]
    }
   ],
   "source": [
    "class Grid:\n",
    "    def __init__(self, lines:List[Line]) -> None:\n",
    "        self.points = Counter()\n",
    "        self.lines = []\n",
    "        for line in lines:\n",
    "            self.add_line(line)\n",
    "\n",
    "    def add_line(self, line):\n",
    "        self.lines.append(line)\n",
    "        self.points.update(line.points)\n",
    "\n",
    "    @classmethod\n",
    "    def from_file(cls, filename):\n",
    "        with Path(filename) as file:\n",
    "            lines = [Line.from_text(l) for l in file.read_text().splitlines()]\n",
    "\n",
    "        return cls(lines)\n",
    "\n",
    "    @property\n",
    "    def dangerous_points(self):\n",
    "        return[x[0] for x in self.points.most_common() if x[1] > 1]\n",
    "\n",
    "    def __repr__(self) -> str:\n",
    "        s_x = max(p.x for p in self.points) + 1\n",
    "        s_y = max(p.y for p in self.points) + 1\n",
    "        grid = [['.']*s_x for _ in range(s_y)]\n",
    "        for p, v in self.points.items():\n",
    "            grid[p.y][p.x] = str(v)\n",
    "\n",
    "        rv = \"\\n\".join(''.join(l) for l in grid)\n",
    "        return rv + \"\\n\" + str(self.points)\n",
    "\n",
    "    def __str__(self) -> str:\n",
    "        return self.__repr__()\n",
    "            \n",
    "\n",
    "g = Grid.from_file('5-test.txt')\n",
    "print(g.lines)\n",
    "print(g)"
   ]
  },
  {
   "cell_type": "code",
   "execution_count": 31,
   "metadata": {},
   "outputs": [
    {
     "name": "stdout",
     "output_type": "stream",
     "text": [
      "21373\n"
     ]
    }
   ],
   "source": [
    "day5_grid = Grid.from_file('5-data.txt')\n",
    "\n",
    "print(len(day5_grid.dangerous_points))"
   ]
  },
  {
   "cell_type": "markdown",
   "metadata": {},
   "source": [
    "## Day 5 part 2\n",
    "Point.points aangepast"
   ]
  },
  {
   "cell_type": "code",
   "execution_count": 32,
   "metadata": {},
   "outputs": [
    {
     "data": {
      "text/plain": [
       "[Point(x=4, y=4),\n",
       " Point(x=6, y=4),\n",
       " Point(x=0, y=9),\n",
       " Point(x=1, y=9),\n",
       " Point(x=2, y=9),\n",
       " Point(x=7, y=1),\n",
       " Point(x=5, y=3),\n",
       " Point(x=3, y=4),\n",
       " Point(x=7, y=4),\n",
       " Point(x=2, y=2),\n",
       " Point(x=7, y=3),\n",
       " Point(x=5, y=5)]"
      ]
     },
     "execution_count": 32,
     "metadata": {},
     "output_type": "execute_result"
    }
   ],
   "source": [
    "Grid.from_file('5-test.txt').dangerous_points"
   ]
  }
 ],
 "metadata": {
  "interpreter": {
   "hash": "7f765a4732cf41bcdc90d9b074021fdee245e4bff3154f463bfd65550891c1c8"
  },
  "kernelspec": {
   "display_name": "Python 3.9.7 64-bit ('venv': venv)",
   "language": "python",
   "name": "python3"
  },
  "language_info": {
   "codemirror_mode": {
    "name": "ipython",
    "version": 3
   },
   "file_extension": ".py",
   "mimetype": "text/x-python",
   "name": "python",
   "nbconvert_exporter": "python",
   "pygments_lexer": "ipython3",
   "version": "3.9.7"
  },
  "orig_nbformat": 4
 },
 "nbformat": 4,
 "nbformat_minor": 2
}
